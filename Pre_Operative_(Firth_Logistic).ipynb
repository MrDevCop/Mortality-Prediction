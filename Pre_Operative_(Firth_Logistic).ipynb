{
  "cells": [
    {
      "cell_type": "markdown",
      "source": [
        "## Libraries"
      ],
      "metadata": {
        "id": "aBjMkwwkeRq2"
      }
    },
    {
      "cell_type": "code",
      "execution_count": null,
      "metadata": {
        "colab": {
          "base_uri": "https://localhost:8080/"
        },
        "id": "vF0_FJ1pYm0E",
        "outputId": "3a5390c2-f4bf-4781-831f-a1dc500c19b1"
      },
      "outputs": [
        {
          "output_type": "stream",
          "name": "stderr",
          "text": [
            "/usr/local/lib/python3.7/dist-packages/statsmodels/tools/_testing.py:19: FutureWarning: pandas.util.testing is deprecated. Use the functions in the public API at pandas.testing instead.\n",
            "  import pandas.util.testing as tm\n"
          ]
        }
      ],
      "source": [
        "import pandas as pd\n",
        "import numpy as np\n",
        "from sklearn.feature_selection import SelectKBest\n",
        "from sklearn.feature_selection import chi2\n",
        "from __future__ import division\n",
        "import os\n",
        "import sys\n",
        "from sklearn.metrics import precision_score, recall_score\n",
        "import glob\n",
        "from sklearn.feature_selection import SelectFromModel\n",
        "import matplotlib.pyplot as plt\n",
        "import sys\n",
        "'''importing the libraries'''\n",
        "\n",
        "from tensorflow.keras.models import Sequential\n",
        "import os \n",
        "from keras.layers import LeakyReLU\n",
        "import cv2\n",
        "import numpy as np\n",
        "import matplotlib.pyplot as plt\n",
        "from keras.wrappers.scikit_learn import KerasClassifier\n",
        "%matplotlib inline\n",
        "from tqdm.notebook import tqdm, trange\n",
        "# Importing libraries\n",
        "from keras.layers import Dropout, BatchNormalization\n",
        "from sklearn.model_selection import RandomizedSearchCV\n",
        "import matplotlib.pyplot as plt\n",
        "import numpy as np\n",
        "from sklearn.metrics import roc_curve,roc_auc_score\n",
        "import pandas as pd\n",
        "#from google.colab import files\n",
        "from sklearn.model_selection import train_test_split\n",
        "from sklearn.preprocessing import LabelEncoder\n",
        "from sklearn.preprocessing import OneHotEncoder\n",
        "from imblearn.under_sampling import RandomUnderSampler\n",
        "import pandas as pd\n",
        "import imblearn\n",
        "import numpy as np\n",
        "from sklearn.svm import LinearSVC\n",
        "from imblearn.over_sampling import SMOTE\n",
        "from sklearn.metrics import f1_score\n",
        "from sklearn.preprocessing import StandardScaler\n",
        "from sklearn.model_selection import RepeatedStratifiedKFold\n",
        "from sklearn.feature_selection import SelectKBest\n",
        "from sklearn.feature_selection import chi2\n",
        "from sklearn.tree import DecisionTreeRegressor\n",
        "from sklearn.model_selection import train_test_split\n",
        "from sklearn.datasets import load_iris\n",
        "from sklearn.model_selection import train_test_split\n",
        "from sklearn.naive_bayes import GaussianNB, MultinomialNB, CategoricalNB, BernoulliNB\n",
        "from sklearn.model_selection import cross_val_score\n",
        "from sklearn.model_selection import RepeatedKFold\n",
        "from sklearn.svm import SVC\n",
        "from sklearn.model_selection import cross_validate\n",
        "from sklearn.model_selection import KFold\n",
        "from sklearn.decomposition import PCA\n",
        "from sklearn.svm import SVR\n",
        "from xgboost import XGBClassifier, XGBRegressor\n",
        "from sklearn.model_selection import StratifiedKFold\n",
        "from sklearn.model_selection import GridSearchCV\n",
        "from sklearn.linear_model import Lasso\n",
        "from sklearn import linear_model\n",
        "from tqdm import tqdm, trange\n",
        "from sklearn import preprocessing\n",
        "from sklearn.metrics import accuracy_score, classification_report, mean_squared_error, r2_score, roc_auc_score, roc_curve\n",
        "import matplotlib.pyplot as plt\n",
        "from sklearn.discriminant_analysis import LinearDiscriminantAnalysis as LDA\n",
        "from sklearn.manifold import TSNE\n",
        "from sklearn.linear_model import Lasso, LogisticRegression\n",
        "from sklearn.feature_selection import SelectFromModel\n",
        "from sklearn.ensemble import RandomForestClassifier, RandomForestRegressor, VotingRegressor\n",
        "from sklearn.tree import DecisionTreeClassifier\n",
        "from sklearn.feature_selection import RFE\n",
        "from sklearn.feature_selection import chi2\n",
        "from sklearn.tree import DecisionTreeRegressor\n",
        "from sklearn.model_selection import train_test_split\n",
        "from sklearn.datasets import load_iris\n",
        "from sklearn.model_selection import train_test_split\n",
        "from sklearn.naive_bayes import GaussianNB, MultinomialNB, CategoricalNB, BernoulliNB\n",
        "from sklearn.model_selection import cross_val_score\n",
        "from sklearn.model_selection import RepeatedKFold\n",
        "from sklearn.svm import SVC\n",
        "from sklearn.model_selection import cross_validate\n",
        "from sklearn.model_selection import KFold\n",
        "from sklearn.decomposition import PCA\n",
        "from sklearn.svm import SVR\n",
        "from xgboost import XGBClassifier, XGBRegressor\n",
        "from sklearn.model_selection import StratifiedKFold\n",
        "from sklearn.model_selection import GridSearchCV\n",
        "from sklearn.linear_model import Lasso\n",
        "from sklearn import linear_model\n",
        "from tqdm import tqdm, trange\n",
        "from sklearn import preprocessing\n",
        "from sklearn.metrics import accuracy_score, classification_report, mean_squared_error, r2_score, roc_auc_score, roc_curve\n",
        "import matplotlib.pyplot as plt\n",
        "from sklearn.discriminant_analysis import LinearDiscriminantAnalysis as LDA\n",
        "from sklearn.manifold import TSNE\n",
        "from sklearn.linear_model import Lasso, LogisticRegression\n",
        "from sklearn.feature_selection import SelectFromModel\n",
        "from sklearn.ensemble import RandomForestClassifier, RandomForestRegressor, VotingRegressor\n",
        "from sklearn.tree import DecisionTreeClassifier\n",
        "from sklearn.feature_selection import RFE\n",
        "import warnings\n",
        "import math\n",
        "import statsmodels\n",
        "import numpy as np\n",
        "from scipy import stats\n",
        "import statsmodels.api as smf\n",
        "import numpy as np\n",
        "import pandas as pd\n",
        "import arviz\n",
        "import seaborn as sns\n",
        "from sklearn.linear_model import LinearRegression\n",
        "\n",
        "%matplotlib inline\n",
        "%precision 4\n",
        "plt.style.use('ggplot')\n",
        "from sklearn.preprocessing import StandardScaler\n",
        "from sklearn.naive_bayes import GaussianNB, MultinomialNB, CategoricalNB, BernoulliNB\n",
        "from sklearn.model_selection import cross_val_score\n",
        "from sklearn.model_selection import RepeatedKFold\n",
        "from sklearn.svm import SVC\n",
        "from sklearn.model_selection import cross_validate\n",
        "from sklearn.model_selection import KFold\n",
        "from sklearn.decomposition import PCA\n",
        "from sklearn.svm import SVR\n",
        "from xgboost import XGBClassifier, XGBRegressor\n",
        "from sklearn.model_selection import StratifiedKFold\n",
        "from sklearn.linear_model import Lasso\n",
        "from sklearn import linear_model\n",
        "from tqdm.notebook import tqdm, trange\n",
        "from sklearn import preprocessing\n",
        "from sklearn.metrics import accuracy_score, classification_report, mean_squared_error, r2_score, roc_auc_score, roc_curve\n",
        "import matplotlib.pyplot as plt\n",
        "from sklearn.discriminant_analysis import LinearDiscriminantAnalysis as LDA\n",
        "from sklearn.manifold import TSNE\n",
        "from sklearn.linear_model import Lasso, LogisticRegression\n",
        "from sklearn.feature_selection import SelectFromModel\n",
        "from sklearn.ensemble import RandomForestClassifier, RandomForestRegressor, VotingRegressor\n",
        "from sklearn.tree import DecisionTreeClassifier\n",
        "from sklearn.feature_selection import RFE\n",
        "import patsy\n",
        "from theano import shared"
      ]
    },
    {
      "cell_type": "code",
      "source": [
        "! pip install mrmr_selection"
      ],
      "metadata": {
        "colab": {
          "base_uri": "https://localhost:8080/"
        },
        "id": "jukKPga-0z_x",
        "outputId": "50a2eb45-46e8-4b2c-ece5-ba1ddc8a2a1e"
      },
      "execution_count": null,
      "outputs": [
        {
          "output_type": "stream",
          "name": "stdout",
          "text": [
            "Looking in indexes: https://pypi.org/simple, https://us-python.pkg.dev/colab-wheels/public/simple/\n",
            "Collecting mrmr_selection\n",
            "  Downloading mrmr_selection-0.2.5-py3-none-any.whl (24 kB)\n",
            "Requirement already satisfied: jinja2 in /usr/local/lib/python3.7/dist-packages (from mrmr_selection) (2.11.3)\n",
            "Requirement already satisfied: numpy>=1.18.1 in /usr/local/lib/python3.7/dist-packages (from mrmr_selection) (1.21.6)\n",
            "Requirement already satisfied: sklearn in /usr/local/lib/python3.7/dist-packages (from mrmr_selection) (0.0)\n",
            "Requirement already satisfied: scipy in /usr/local/lib/python3.7/dist-packages (from mrmr_selection) (1.4.1)\n",
            "Requirement already satisfied: tqdm in /usr/local/lib/python3.7/dist-packages (from mrmr_selection) (4.64.0)\n",
            "Requirement already satisfied: pandas>=1.0.3 in /usr/local/lib/python3.7/dist-packages (from mrmr_selection) (1.3.5)\n",
            "Requirement already satisfied: joblib in /usr/local/lib/python3.7/dist-packages (from mrmr_selection) (1.1.0)\n",
            "Collecting category-encoders\n",
            "  Downloading category_encoders-2.5.0-py2.py3-none-any.whl (69 kB)\n",
            "\u001b[K     |████████████████████████████████| 69 kB 3.6 MB/s \n",
            "\u001b[?25hRequirement already satisfied: pytz>=2017.3 in /usr/local/lib/python3.7/dist-packages (from pandas>=1.0.3->mrmr_selection) (2022.1)\n",
            "Requirement already satisfied: python-dateutil>=2.7.3 in /usr/local/lib/python3.7/dist-packages (from pandas>=1.0.3->mrmr_selection) (2.8.2)\n",
            "Requirement already satisfied: six>=1.5 in /usr/local/lib/python3.7/dist-packages (from python-dateutil>=2.7.3->pandas>=1.0.3->mrmr_selection) (1.15.0)\n",
            "Requirement already satisfied: scikit-learn>=0.20.0 in /usr/local/lib/python3.7/dist-packages (from category-encoders->mrmr_selection) (1.0.2)\n",
            "Requirement already satisfied: statsmodels>=0.9.0 in /usr/local/lib/python3.7/dist-packages (from category-encoders->mrmr_selection) (0.10.2)\n",
            "Requirement already satisfied: patsy>=0.5.1 in /usr/local/lib/python3.7/dist-packages (from category-encoders->mrmr_selection) (0.5.2)\n",
            "Requirement already satisfied: threadpoolctl>=2.0.0 in /usr/local/lib/python3.7/dist-packages (from scikit-learn>=0.20.0->category-encoders->mrmr_selection) (3.1.0)\n",
            "Requirement already satisfied: MarkupSafe>=0.23 in /usr/local/lib/python3.7/dist-packages (from jinja2->mrmr_selection) (2.0.1)\n",
            "Installing collected packages: category-encoders, mrmr-selection\n",
            "Successfully installed category-encoders-2.5.0 mrmr-selection-0.2.5\n"
          ]
        }
      ]
    },
    {
      "cell_type": "markdown",
      "source": [
        "## Uploading Drive "
      ],
      "metadata": {
        "id": "UtoHAfDzK6gX"
      }
    },
    {
      "cell_type": "code",
      "execution_count": null,
      "metadata": {
        "colab": {
          "base_uri": "https://localhost:8080/"
        },
        "id": "BWl1M2y9ZtsR",
        "outputId": "0acdab74-2f08-4226-fd93-bbc07b0f8e4b"
      },
      "outputs": [
        {
          "output_type": "stream",
          "name": "stdout",
          "text": [
            "Drive already mounted at /content/drive; to attempt to forcibly remount, call drive.mount(\"/content/drive\", force_remount=True).\n"
          ]
        }
      ],
      "source": [
        "from google.colab import drive\n",
        "drive.mount('/content/drive')\n",
        "\n"
      ]
    },
    {
      "cell_type": "code",
      "source": [
        "df = pd.read_excel('/content/drive/MyDrive/ML2/Dataset.xlsx')\n",
        "\n"
      ],
      "metadata": {
        "id": "AcGyB22Awayv"
      },
      "execution_count": null,
      "outputs": []
    },
    {
      "cell_type": "markdown",
      "source": [
        "## Functions"
      ],
      "metadata": {
        "id": "8DthAUvHzhcM"
      }
    },
    {
      "cell_type": "code",
      "execution_count": null,
      "metadata": {
        "id": "5jUk_rzDZmau"
      },
      "outputs": [],
      "source": [
        "def firth_likelihood(beta, logit):\n",
        "    return -(logit.loglike(beta) + 0.5*np.log(np.linalg.det(-logit.hessian(beta))))\n",
        "\n",
        "# Do firth regression\n",
        "# Note information = -hessian, for some reason available but not implemented in statsmodels\n",
        "def fit_firth(y, X, start_vec=None, step_limit=10000, convergence_limit=0.0001):\n",
        "\n",
        "    logit_model = smf.Logit(y, X)\n",
        "    \n",
        "    if start_vec is None:\n",
        "        start_vec = np.zeros(X.shape[1])\n",
        "    \n",
        "    beta_iterations = []\n",
        "    beta_iterations.append(start_vec)\n",
        "    for i in range(0, step_limit):\n",
        "        pi = logit_model.predict(beta_iterations[i])\n",
        "        W = np.diagflat(np.multiply(pi, 1-pi))\n",
        "        var_covar_mat = np.linalg.pinv(-logit_model.hessian(beta_iterations[i]))\n",
        "\n",
        "        # build hat matrix\n",
        "        rootW = np.sqrt(W)\n",
        "        H = np.dot(np.transpose(X), np.transpose(rootW))\n",
        "        H = np.matmul(var_covar_mat, H)\n",
        "        H = np.matmul(np.dot(rootW, X), H)\n",
        "\n",
        "        # penalised score\n",
        "        U = np.matmul(np.transpose(X), y - pi + np.multiply(np.diagonal(H), 0.5 - pi))\n",
        "        new_beta = beta_iterations[i] + np.matmul(var_covar_mat, U)\n",
        "\n",
        "        # step halving\n",
        "        j = 0\n",
        "        while firth_likelihood(new_beta, logit_model) > firth_likelihood(beta_iterations[i], logit_model):\n",
        "            new_beta = beta_iterations[i] + 0.5*(new_beta - beta_iterations[i])\n",
        "            j = j + 1\n",
        "            if (j > step_limit):\n",
        "                sys.stderr.write('Firth regression failed\\n')\n",
        "                return None\n",
        "\n",
        "        beta_iterations.append(new_beta)\n",
        "        if i > 0 and (np.linalg.norm(beta_iterations[i] - beta_iterations[i-1]) < convergence_limit):\n",
        "            break\n",
        "\n",
        "    return_fit = None\n",
        "    if np.linalg.norm(beta_iterations[i] - beta_iterations[i-1]) >= convergence_limit:\n",
        "        sys.stderr.write('Firth regression failed\\n')\n",
        "    else:\n",
        "        # Calculate stats\n",
        "        fitll = -firth_likelihood(beta_iterations[-1], logit_model)\n",
        "        intercept = beta_iterations[-1][0]\n",
        "        beta = beta_iterations[-1][1:].tolist()\n",
        "        bse = np.sqrt(np.diagonal(np.linalg.pinv(-logit_model.hessian(beta_iterations[-1]))))\n",
        "        \n",
        "        return_fit = intercept, beta, bse, fitll\n",
        "\n",
        "    return return_fit\n",
        "\n",
        "def get_predictions(X,weights):\n",
        "    z = np.dot(X,weights)\n",
        "    y_pred =  1/(1 + np.exp(-z))\n",
        "    return y_pred\n",
        "\n",
        "def scaled_df (df):\n",
        "  scaler = StandardScaler()\n",
        "  scaler.fit(df.iloc[:,:df.shape[1]-1])\n",
        "  df_s = scaler.transform(df.iloc[:,:df.shape[1]-1])\n",
        "  df_s = pd.DataFrame(df_s)\n",
        "  df_s['target'] = df['in_hospital_mortality']\n",
        "  return df_s\n",
        "\n",
        "def data_split(df,split_ratio = 0.20):\n",
        "  df0 = df.copy()\n",
        "#df\n",
        "  df0 = df0.sample(frac = 1)\n",
        "\n",
        "  data_X = df0.iloc[:,0:len(df0.columns)-1] # stores the dataset except the last column because it the target variable\n",
        "  data_Y =  df0.iloc[:,len(df0.columns)-1] # target variable only\n",
        "\n",
        "  X_train, X_test, Y_train, Y_test = train_test_split(data_X, data_Y,test_size = split_ratio ,random_state=45,stratify=data_Y)\n",
        "  return X_train, X_test, Y_train, Y_test, data_X, data_Y\n",
        "\n",
        "def intercept_df(df):\n",
        "  #d = df\n",
        "  df_i = df.copy()\n",
        "  df_i.insert(loc=1, column='intercept', value=np.ones(df.shape[0],dtype = 'int'), allow_duplicates=True)\n",
        "  return df_i\n",
        "\n",
        "def over_sample_(df):\n",
        "  df0 = df.copy()\n",
        "  df0 = df0.sample(frac = 1)\n",
        "\n",
        "  data_X = df0.iloc[:-500,0:len(df0.columns)-1] # stores the dataset except the last column because it the target variable\n",
        "  data_Y =  df0.iloc[:-500,len(df0.columns)-1] # target variable only\n",
        "\n",
        "  data_Vx =  df0.iloc[500:, 0: len(df0.columns)-1]\n",
        "  data_Vy = df0.iloc[500:,len(df0.columns)-1]\n",
        "\n",
        "  oversample = SMOTE()\n",
        "  X, y = oversample.fit_resample(data_X, data_Y)\n",
        "\n",
        "  X_train, X_test, Y_train, Y_test = train_test_split(X, y,test_size = 0.20 ,random_state=42)\n",
        "  return  X_train, X_test, Y_train, Y_test,data_Vx,data_Vy"
      ]
    },
    {
      "cell_type": "markdown",
      "source": [
        "## Feature Selection"
      ],
      "metadata": {
        "id": "KrD8D3MSzsJE"
      }
    },
    {
      "cell_type": "markdown",
      "source": [
        "### Ridge"
      ],
      "metadata": {
        "id": "7Mw4hjRkZLXX"
      }
    },
    {
      "cell_type": "code",
      "source": [
        "df0 = df\n",
        "#df\n",
        "df0 = df0.sample(frac = 1)\n",
        "\n",
        "data_X = df0.iloc[:,0:len(df0.columns)-1] # stores the dataset except the last column because it the target variable\n",
        "data_Y =  df0.iloc[:,len(df0.columns)-1] # target variable only\n",
        "\n",
        "X_train, X_test, Y_train, Y_test = train_test_split(data_X, data_Y,test_size = 0.20 ,random_state=44,stratify=data_Y)"
      ],
      "metadata": {
        "id": "EyguNyWpJ-VK"
      },
      "execution_count": null,
      "outputs": []
    },
    {
      "cell_type": "code",
      "source": [
        "#param = {'C': [10**-2,10**-1,10**0,10**1,10**2,1,2,100]}\n",
        "\n",
        "lr_model = LogisticRegression(penalty='l2', solver='saga')\n",
        "#g#s_model = GridSearchCV(estimator=lr_model, param_grid=param)\n",
        "#gs_model.fit(X_train, Y_train)\n",
        "\n",
        "# Train a LR model with best parameters\n",
        "model = LogisticRegression(C= 1, penalty='l2', solver='saga')\n",
        "model.fit(X_train, Y_train)\n",
        "coef = model.coef_[0]\n",
        "imp_features = pd.Series(X_train.columns)[list(coef!=0)]\n",
        "importance = pd.Series(coef)[list(coef!=0)]\n",
        "imp_ridge  = pd.DataFrame({'features':imp_features,'imp':importance})\n",
        "imp_ridge"
      ],
      "metadata": {
        "id": "QU2x19o-aPrp"
      },
      "execution_count": null,
      "outputs": []
    },
    {
      "cell_type": "code",
      "source": [
        "# ridge feature vector \n",
        "imp_ridge.to_csv('ridge.csv',index = False)"
      ],
      "metadata": {
        "id": "96ooa2ibie-w"
      },
      "execution_count": null,
      "outputs": []
    },
    {
      "cell_type": "code",
      "source": [
        "df_ridge = df.loc[:,imp_features]\n",
        "df_ridge['target'] = df['in_hospital_mortality']\n",
        "# scaling with ridge features\n",
        "scaler = StandardScaler()\n",
        "scaler.fit(df_ridge.iloc[:,:df_ridge.shape[1]-1])\n",
        "df_s = scaler.transform(df_ridge.iloc[:,:df_ridge.shape[1]-1])\n",
        "df_s = pd.DataFrame(df_s)\n",
        "df_s['target'] = df['in_hospital_mortality']\n",
        "\n",
        "# getting f-1 score with ridge feature vector\n",
        "df0 = df_s\n",
        "#df\n",
        "df0 = df0.sample(frac = 1)\n",
        "\n",
        "data_X = df0.iloc[:,0:len(df0.columns)-1] # stores the dataset except the last column because it the target variable\n",
        "data_Y =  df0.iloc[:,len(df0.columns)-1] # target variable only\n",
        "\n",
        "X_train, X_test, Y_train, Y_test = train_test_split(data_X, data_Y,test_size = 0.20 ,random_state=44,stratify=data_Y)\n",
        "\n",
        "model = XGBClassifier()\n",
        "model.fit(X_train, Y_train)\n",
        "pred = model.predict(X_test)\n",
        "print(f1_score(Y_test,pred))\n",
        "print(f1_score(Y_test,pred, average = 'macro'))\n",
        "print(f1_score(Y_test,pred, average = 'weighted'))"
      ],
      "metadata": {
        "colab": {
          "base_uri": "https://localhost:8080/"
        },
        "id": "TFHwxq9_gTHh",
        "outputId": "1d128ee9-0bfb-4d69-b903-e069a32e3744"
      },
      "execution_count": null,
      "outputs": [
        {
          "output_type": "stream",
          "name": "stdout",
          "text": [
            "0.2222222222222222\n",
            "0.6044634377967711\n",
            "0.9652905796696647\n"
          ]
        }
      ]
    },
    {
      "cell_type": "markdown",
      "source": [
        "### Lasso FS"
      ],
      "metadata": {
        "id": "3zadDM05a0hX"
      }
    },
    {
      "cell_type": "code",
      "source": [
        "df0 = df\n",
        "#df\n",
        "df0 = df0.sample(frac = 1)\n",
        "\n",
        "data_X = df0.iloc[:,0:len(df0.columns)-1] # stores the dataset except the last column because it the target variable\n",
        "data_Y =  df0.iloc[:,len(df0.columns)-1] # target variable only\n",
        "\n",
        "X_train, X_test, Y_train, Y_test = train_test_split(data_X, data_Y,test_size = 0.20 ,random_state=44,stratify=data_Y)"
      ],
      "metadata": {
        "id": "OhAwqodHa3Ml"
      },
      "execution_count": null,
      "outputs": []
    },
    {
      "cell_type": "code",
      "source": [
        "#param = {'C': [10**-2,10**-1,10**0,10**1,10**2,1,2,100]}\n",
        "\n",
        "lr_model = LogisticRegression(penalty='l1', solver='saga')\n",
        "#g#s_model = GridSearchCV(estimator=lr_model, param_grid=param)\n",
        "#gs_model.fit(X_train, Y_train)\n",
        "\n",
        "# Train a LR model with best parameters\n",
        "model = LogisticRegression(C= 1, penalty='l1', solver='saga')\n",
        "model.fit(X_train, Y_train)\n",
        "coef = model.coef_[0]\n",
        "imp_features = pd.Series(X_train.columns)[list(coef!=0)]\n",
        "importance = pd.Series(coef)[list(coef!=0)]\n",
        "imp_lasso  = pd.DataFrame({'features':imp_features,'imp':importance})\n",
        "imp_lasso"
      ],
      "metadata": {
        "id": "Ev4znKlva3FR"
      },
      "execution_count": null,
      "outputs": []
    },
    {
      "cell_type": "code",
      "source": [
        "# ridge feature vector \n",
        "imp_lasso.to_csv('lasso.csv',index = False)"
      ],
      "metadata": {
        "id": "DHS139VTa2-R"
      },
      "execution_count": null,
      "outputs": []
    },
    {
      "cell_type": "code",
      "source": [
        "df_lasso = df.loc[:,imp_features]\n",
        "df_lasso['target'] = df['in_hospital_mortality']\n",
        "# scaling with lasso features\n",
        "scaler = StandardScaler()\n",
        "scaler.fit(df_lasso.iloc[:,:df_lasso.shape[1]-1])\n",
        "df_s = scaler.transform(df_lasso.iloc[:,:df_lasso.shape[1]-1])\n",
        "df_s = pd.DataFrame(df_s)\n",
        "df_s['target'] = df['in_hospital_mortality']\n",
        "\n",
        "# getting f-1 score with lasso feature vector\n",
        "df0 = df_s\n",
        "#df\n",
        "df0 = df0.sample(frac = 1)\n",
        "\n",
        "data_X = df0.iloc[:,0:len(df0.columns)-1] # stores the dataset except the last column because it the target variable\n",
        "data_Y =  df0.iloc[:,len(df0.columns)-1] # target variable only\n",
        "\n",
        "X_train, X_test, Y_train, Y_test = train_test_split(data_X, data_Y,test_size = 0.20 ,random_state=44,stratify=data_Y)\n",
        "\n",
        "model = XGBClassifier()\n",
        "model.fit(X_train, Y_train)\n",
        "pred = model.predict(X_test)\n",
        "print(f1_score(Y_test,pred))\n",
        "print(f1_score(Y_test,pred, average = 'macro'))\n",
        "print(f1_score(Y_test,pred, average = 'weighted'))"
      ],
      "metadata": {
        "id": "aAdlDzA0cL19"
      },
      "execution_count": null,
      "outputs": []
    },
    {
      "cell_type": "markdown",
      "source": [
        "### XGB FS"
      ],
      "metadata": {
        "id": "qFhsj1558kN2"
      }
    },
    {
      "cell_type": "code",
      "source": [
        "df0 = df\n",
        "#df\n",
        "df0 = df0.sample(frac = 1)\n",
        "\n",
        "data_X = df0.iloc[:,0:len(df0.columns)-1] # stores the dataset except the last column because it the target variable\n",
        "data_Y =  df0.iloc[:,len(df0.columns)-1] # target variable only\n",
        "\n",
        "X_train, X_test, Y_train, Y_test = train_test_split(data_X, data_Y,test_size = 0.20 ,random_state=44,stratify=data_Y)"
      ],
      "metadata": {
        "id": "0cgnhBfwcqaS"
      },
      "execution_count": null,
      "outputs": []
    },
    {
      "cell_type": "code",
      "source": [
        "#X_train, X_test, Y_train, Y_test, data_X,data_Y = train_test_split(df_s)\n",
        "model = XGBClassifier()\n",
        "model.fit(X_train, Y_train)\n",
        "model"
      ],
      "metadata": {
        "id": "J4RpryHzzrzh",
        "colab": {
          "base_uri": "https://localhost:8080/"
        },
        "outputId": "7c11f67b-4543-42f4-819c-71e5ed633d1b"
      },
      "execution_count": null,
      "outputs": [
        {
          "output_type": "execute_result",
          "data": {
            "text/plain": [
              "XGBClassifier()"
            ]
          },
          "metadata": {},
          "execution_count": 15
        }
      ]
    },
    {
      "cell_type": "code",
      "source": [
        "xgb_fea_imp=pd.DataFrame(list(model.get_booster().get_fscore().items()),columns=['feature','importance']).sort_values('importance', ascending=False)\n",
        "xgb_fea_imp"
      ],
      "metadata": {
        "id": "DUb2i7Ux8f5d"
      },
      "execution_count": null,
      "outputs": []
    },
    {
      "cell_type": "code",
      "source": [
        "# XGB feature vector\n",
        "xgb_fea_imp.to_csv('xgb_fs.csv', index = False)"
      ],
      "metadata": {
        "id": "en8QAJVe8rYi"
      },
      "execution_count": null,
      "outputs": []
    },
    {
      "cell_type": "code",
      "source": [
        "df_xgb = df.loc[:,imp_features]\n",
        "df_xgb['target'] = df['in_hospital_mortality']\n",
        "# scaling with XGB features\n",
        "scaler = StandardScaler()\n",
        "scaler.fit(df_xgb.iloc[:,:df_xgb.shape[1]-1])\n",
        "df_s = scaler.transform(df_xgb.iloc[:,:df_xgb.shape[1]-1])\n",
        "df_s = pd.DataFrame(df_s)\n",
        "df_s['target'] = df['in_hospital_mortality']\n",
        "\n",
        "# getting f-1 score with XGB feature vector\n",
        "df0 = df_s\n",
        "#df\n",
        "df0 = df0.sample(frac = 1)\n",
        "\n",
        "data_X = df0.iloc[:,0:len(df0.columns)-1] # stores the dataset except the last column because it the target variable\n",
        "data_Y =  df0.iloc[:,len(df0.columns)-1] # target variable only\n",
        "\n",
        "X_train, X_test, Y_train, Y_test = train_test_split(data_X, data_Y,test_size = 0.20 ,random_state=44,stratify=data_Y)\n",
        "\n",
        "model = XGBClassifier()\n",
        "model.fit(X_train, Y_train)\n",
        "pred = model.predict(X_test)\n",
        "print(f1_score(Y_test,pred))\n",
        "print(f1_score(Y_test,pred, average = 'macro'))\n",
        "print(f1_score(Y_test,pred, average = 'weighted'))"
      ],
      "metadata": {
        "id": "vFqUrQACcub7"
      },
      "execution_count": null,
      "outputs": []
    },
    {
      "cell_type": "markdown",
      "source": [
        "### RF FS"
      ],
      "metadata": {
        "id": "n9IzTxO_8X-4"
      }
    },
    {
      "cell_type": "code",
      "source": [
        "df0 = df\n",
        "#df\n",
        "df0 = df0.sample(frac = 1)\n",
        "\n",
        "data_X = df0.iloc[:,0:len(df0.columns)-1] # stores the dataset except the last column because it the target variable\n",
        "data_Y =  df0.iloc[:,len(df0.columns)-1] # target variable only\n",
        "\n",
        "X_train, X_test, Y_train, Y_test = train_test_split(data_X, data_Y,test_size = 0.20 ,random_state=44,stratify=data_Y)"
      ],
      "metadata": {
        "id": "ct0tvV0ydSga"
      },
      "execution_count": null,
      "outputs": []
    },
    {
      "cell_type": "code",
      "source": [
        "\n",
        "#rf = SelectFromModel(RandomForestClassifier(n_estimators = 1000), max_features = 20, threshold = -np.inf )\n",
        "model = RandomForestClassifier(n_estimators=2000)\n",
        "model.fit(X_train,Y_train)\n",
        "feature_importances_rf = pd.DataFrame(model.feature_importances_, index =data_X.columns,  columns=['importance']).sort_values('importance', ascending=False)\n",
        "feature_importances_rf"
      ],
      "metadata": {
        "id": "iegVQz7BQmZi"
      },
      "execution_count": null,
      "outputs": []
    },
    {
      "cell_type": "code",
      "source": [
        "feature_importances_rf.index"
      ],
      "metadata": {
        "id": "F0svMaW3RJJb"
      },
      "execution_count": null,
      "outputs": []
    },
    {
      "cell_type": "code",
      "source": [
        "# random forest feature vector\n",
        "feature_importances_rf.to_csv('rf_feat.csv')"
      ],
      "metadata": {
        "id": "nHkWWk9xdakU"
      },
      "execution_count": null,
      "outputs": []
    },
    {
      "cell_type": "code",
      "source": [
        "#df_xgb = df.loc[:,xgb_fea_imp.feature.values.tolist()]\n",
        "df_rf = df.loc[:,feature_importances_rf.index.values.tolist()]"
      ],
      "metadata": {
        "id": "2quD46UnK7iY"
      },
      "execution_count": null,
      "outputs": []
    },
    {
      "cell_type": "code",
      "source": [
        "#scaler = StandardScaler()\n",
        "#scaler.fit(df_xgb.iloc[:,:df_xgb.shape[1]-1])\n",
        "#df_s = scaler.transform(df_xgb.iloc[:,:df_xgb.shape[1]-1])\n",
        "#df_s = pd.DataFrame(df_s)\n",
        "#df_s['target'] = df['in_hospital_mortality']\n",
        "df_rf['target'] = df['in_hospital_mortality']\n",
        "scaler = StandardScaler()\n",
        "scaler.fit(df_rf.iloc[:,:df_rf.shape[1]-1])\n",
        "df_s = scaler.transform(df_rf.iloc[:,:df_rf.shape[1]-1])\n",
        "df_s = pd.DataFrame(df_s)\n",
        "df_s['target'] = df['in_hospital_mortality']"
      ],
      "metadata": {
        "id": "FXwbgck87VpU"
      },
      "execution_count": null,
      "outputs": []
    },
    {
      "cell_type": "code",
      "source": [
        "df0 = df_s\n",
        "#df\n",
        "df0 = df0.sample(frac = 1)\n",
        "\n",
        "data_X = df0.iloc[:,0:len(df0.columns)-1] # stores the dataset except the last column because it the target variable\n",
        "data_Y =  df0.iloc[:,len(df0.columns)-1] # target variable only\n",
        "\n",
        "X_train, X_test, Y_train, Y_test = train_test_split(data_X, data_Y,test_size = 0.20 ,random_state=44,stratify=data_Y)"
      ],
      "metadata": {
        "id": "ijPXijbdLmiV"
      },
      "execution_count": null,
      "outputs": []
    },
    {
      "cell_type": "code",
      "source": [
        "# getting f-1 score with random forest feature vector\n",
        "model = RandomForestClassifier()\n",
        "model.fit(X_train, Y_train)\n",
        "pred = model.predict(X_test)\n",
        "print(f1_score(Y_test,pred))\n",
        "print(f1_score(Y_test,pred, average = 'macro'))\n",
        "print(f1_score(Y_test,pred, average = 'weighted'))\n",
        "#print(f1)"
      ],
      "metadata": {
        "colab": {
          "base_uri": "https://localhost:8080/"
        },
        "id": "BDsgGa_HLt7-",
        "outputId": "59435eb1-90c0-40d9-f782-0deffa62b7a7"
      },
      "execution_count": null,
      "outputs": [
        {
          "output_type": "stream",
          "name": "stdout",
          "text": [
            "0.23529411764705882\n",
            "0.6114800759013282\n",
            "0.9665911905559188\n"
          ]
        }
      ]
    },
    {
      "cell_type": "code",
      "source": [
        ""
      ],
      "metadata": {
        "id": "89RJ0GNqRxU9"
      },
      "execution_count": null,
      "outputs": []
    },
    {
      "cell_type": "code",
      "source": [
        "f = pd.read_csv('rf_feat.csv')"
      ],
      "metadata": {
        "id": "V7FXtKoqrKpR"
      },
      "execution_count": null,
      "outputs": []
    },
    {
      "cell_type": "code",
      "source": [
        "def firth_likelihood(beta, logit):\n",
        "    return -(logit.loglike(beta) + 0.5*np.log(np.linalg.det(-logit.hessian(beta))))\n",
        "\n",
        "# Do firth regression\n",
        "# Note information = -hessian, for some reason available but not implemented in statsmodels\n",
        "def fit_firth(y, X, start_vec=None, step_limit=10000, convergence_limit=0.0001):\n",
        "\n",
        "    logit_model = smf.Logit(y, X)\n",
        "    \n",
        "    if start_vec is None:\n",
        "        start_vec = np.zeros(X.shape[1])\n",
        "    \n",
        "    beta_iterations = []\n",
        "    beta_iterations.append(start_vec)\n",
        "    for i in range(0, step_limit):\n",
        "        pi = logit_model.predict(beta_iterations[i])\n",
        "        W = np.diagflat(np.multiply(pi, 1-pi))\n",
        "        var_covar_mat = np.linalg.pinv(-logit_model.hessian(beta_iterations[i]))\n",
        "\n",
        "        # build hat matrix\n",
        "        rootW = np.sqrt(W)\n",
        "        H = np.dot(np.transpose(X), np.transpose(rootW))\n",
        "        H = np.matmul(var_covar_mat, H)\n",
        "        H = np.matmul(np.dot(rootW, X), H)\n",
        "\n",
        "        # penalised score\n",
        "        U = np.matmul(np.transpose(X), y - pi + np.multiply(np.diagonal(H), 0.5 - pi))\n",
        "        new_beta = beta_iterations[i] + np.matmul(var_covar_mat, U)\n",
        "\n",
        "        # step halving\n",
        "        j = 0\n",
        "        while firth_likelihood(new_beta, logit_model) > firth_likelihood(beta_iterations[i], logit_model):\n",
        "            new_beta = beta_iterations[i] + 0.5*(new_beta - beta_iterations[i])\n",
        "            j = j + 1\n",
        "            if (j > step_limit):\n",
        "                sys.stderr.write('Firth regression failed\\n')\n",
        "                return None\n",
        "\n",
        "        beta_iterations.append(new_beta)\n",
        "        if i > 0 and (np.linalg.norm(beta_iterations[i] - beta_iterations[i-1]) < convergence_limit):\n",
        "            break\n",
        "\n",
        "    return_fit = None\n",
        "    if np.linalg.norm(beta_iterations[i] - beta_iterations[i-1]) >= convergence_limit:\n",
        "        sys.stderr.write('Firth regression failed\\n')\n",
        "    else:\n",
        "        # Calculate stats\n",
        "        fitll = -firth_likelihood(beta_iterations[-1], logit_model)\n",
        "        intercept = beta_iterations[-1][0]\n",
        "        beta = beta_iterations[-1][1:].tolist()\n",
        "        bse = np.sqrt(np.diagonal(np.linalg.pinv(-logit_model.hessian(beta_iterations[-1]))))\n",
        "        \n",
        "        return_fit = intercept, beta, bse, fitll\n",
        "\n",
        "    return return_fit\n",
        "\n",
        "def get_predictions(X,weights):\n",
        "    z = np.dot(X,weights)\n",
        "    y_pred =  1/(1 + np.exp(-z))\n",
        "    return y_pred\n",
        "\n",
        "def scaled_df (df):\n",
        "  scaler = StandardScaler()\n",
        "  scaler.fit(df.iloc[:,:df.shape[1]-1])\n",
        "  df_s = scaler.transform(df.iloc[:,:df.shape[1]-1])\n",
        "  df_s = pd.DataFrame(df_s)\n",
        "  y = df['mret']\n",
        "  return df_s,y\n",
        "\n",
        "def data_split(df,y,split_ratio = 0.20):\n",
        "  df0 = df.copy()\n",
        "#df\n",
        "  df0 = df0.sample(frac = 1)\n",
        "\n",
        "  data_X = df0.iloc[:,0:len(df0.columns)-1] # stores the dataset except the last column because it the target variable\n",
        "  data_Y =  df0.iloc[:,len(df0.columns)-1] # target variable only\n",
        "\n",
        "  X_train, X_test, Y_train, Y_test = train_test_split(df, y,test_size = split_ratio ,random_state=45,stratify=y)\n",
        "  return X_train, X_test, Y_train, Y_test, data_X, data_Y\n",
        "\n",
        "def intercept_df(df):\n",
        "  #d = df\n",
        "  df_i = df.copy()\n",
        "  df_i.insert(loc=1, column='intercept', value=np.ones(df.shape[0],dtype = 'int'), allow_duplicates=True)\n",
        "  return df_i\n",
        "\n",
        "def over_sample_(df):\n",
        "  df0 = df.copy()\n",
        "  df0 = df0.sample(frac = 1)\n",
        "\n",
        "  data_X = df0.iloc[:-500,0:len(df0.columns)-1] # stores the dataset except the last column because it the target variable\n",
        "  data_Y =  df0.iloc[:-500,len(df0.columns)-1] # target variable only\n",
        "\n",
        "  data_Vx =  df0.iloc[500:, 0: len(df0.columns)-1]\n",
        "  data_Vy = df0.iloc[500:,len(df0.columns)-1]\n",
        "\n",
        "  oversample = SMOTE()\n",
        "  X, y = oversample.fit_resample(data_X, data_Y)\n",
        "\n",
        "  X_train, X_test, Y_train, Y_test = train_test_split(X, y,test_size = 0.20 ,random_state=42,stratify = data_Y)\n",
        "  return  X_train, X_test, Y_train, Y_test,data_Vx,data_Vy"
      ],
      "metadata": {
        "id": "vzFbBXm-rKZc"
      },
      "execution_count": null,
      "outputs": []
    },
    {
      "cell_type": "code",
      "source": [
        "df0 = df_i.copy()\n",
        "data_X = df0.iloc[:-500,0:len(df0.columns)-1] # stores the dataset except the last column because it the target variable\n",
        "data_Y =  df0.iloc[:-500,len(df0.columns)-1] # target variable only\n",
        "\n",
        "data_Vx =  df0.iloc[500:, 0: len(df0.columns)-1]\n",
        "data_Vy = df0.iloc[500:,len(df0.columns)-1]\n",
        "\n",
        "oversample = SMOTE()\n",
        "X, y = oversample.fit_resample(data_X, data_Y)"
      ],
      "metadata": {
        "colab": {
          "base_uri": "https://localhost:8080/"
        },
        "id": "_JSXJY-PlvBt",
        "outputId": "b28b3931-98ff-4dd8-db95-45ee1e048ae5"
      },
      "execution_count": null,
      "outputs": [
        {
          "output_type": "stream",
          "name": "stderr",
          "text": [
            "/usr/local/lib/python3.7/dist-packages/sklearn/utils/validation.py:1692: FutureWarning: Feature names only support names that are all strings. Got feature names with dtypes: ['int', 'str']. An error will be raised in 1.2.\n",
            "  FutureWarning,\n"
          ]
        }
      ]
    },
    {
      "cell_type": "code",
      "source": [
        "data_Y.shape"
      ],
      "metadata": {
        "colab": {
          "base_uri": "https://localhost:8080/"
        },
        "id": "ihdQS0N5FqPI",
        "outputId": "f3c81d6a-63f9-4392-dc8c-6e242be9434b"
      },
      "execution_count": null,
      "outputs": [
        {
          "output_type": "execute_result",
          "data": {
            "text/plain": [
              "(4852,)"
            ]
          },
          "metadata": {},
          "execution_count": 26
        }
      ]
    },
    {
      "cell_type": "markdown",
      "source": [
        "## Code"
      ],
      "metadata": {
        "id": "M0zJivjQzk3r"
      }
    },
    {
      "cell_type": "code",
      "execution_count": null,
      "metadata": {
        "colab": {
          "base_uri": "https://localhost:8080/"
        },
        "id": "id_pMwP6IKU9",
        "outputId": "e2be2493-4b1e-42de-c2ae-cf1bfe0acc42"
      },
      "outputs": [
        {
          "output_type": "stream",
          "name": "stdout",
          "text": [
            "0.8570925392251041\n"
          ]
        }
      ],
      "source": [
        "df = pd.read_csv('/content/drive/MyDrive/ML2 Project/preop_.csv', low_memory = False)\n",
        "# original df\n",
        "df\n",
        "# Make a scaled df\n",
        "scaler = StandardScaler()\n",
        "scaler.fit(df.iloc[:,:df.shape[1]-1])\n",
        "df_s = scaler.transform(df.iloc[:,:df.shape[1]-1])\n",
        "df_s = pd.DataFrame(df_s)\n",
        "df_s['target'] = df['in_hospital_mortality']\n",
        "# Make df with intercept column\n",
        "df_i = intercept_df(df_s)\n",
        "#df_i = intercept_df(df)\n",
        "# Train test split\n",
        "X_train, X_test, Y_train, Y_test,data_X,data_Y = data_split(df_i, 0.20)\n",
        "#print(X_train.shape)\n",
        "# fit firth logistic\n",
        "(intercept, beta, bse, fitll) = fit_firth(Y_train, X_train)\n",
        "b = beta\n",
        "beta = [intercept] + beta\n",
        "# Use beta for prediciton\n",
        "yp = get_predictions(X_test,beta)\n",
        "# ROC\n",
        "print(roc_auc_score(Y_test,yp))"
      ]
    },
    {
      "cell_type": "markdown",
      "source": [
        "## Visualization"
      ],
      "metadata": {
        "id": "TErsOkx2N2nF"
      }
    },
    {
      "cell_type": "code",
      "execution_count": null,
      "metadata": {
        "colab": {
          "base_uri": "https://localhost:8080/",
          "height": 918
        },
        "id": "mWYqaa6qOug5",
        "outputId": "7a11d353-426b-4809-f9b2-d0e3e97e85de"
      },
      "outputs": [
        {
          "output_type": "stream",
          "name": "stderr",
          "text": [
            "/usr/local/lib/python3.7/dist-packages/sklearn/metrics/_classification.py:1318: UndefinedMetricWarning: Precision is ill-defined and being set to 0.0 due to no predicted samples. Use `zero_division` parameter to control this behavior.\n",
            "  _warn_prf(average, modifier, msg_start, len(result))\n"
          ]
        },
        {
          "output_type": "display_data",
          "data": {
            "text/plain": [
              "<Figure size 432x288 with 1 Axes>"
            ],
            "image/png": "[encoded data removed]"
          },
          "metadata": {}
        },
        {
          "output_type": "display_data",
          "data": {
            "text/plain": [
              "<Figure size 432x288 with 1 Axes>"
            ],
            "image/png": "[encoded data removed]"
          },
          "metadata": {}
        },
        {
          "output_type": "display_data",
          "data": {
            "text/plain": [
              "<Figure size 432x288 with 1 Axes>"
            ],
            "image/png": "[encoded data removed]"
          },
          "metadata": {}
        }
      ],
      "source": [
        "thr = np.linspace(0,1,1000)\n",
        "precision = []\n",
        "recall = []\n",
        "roc = []\n",
        "for i in thr:\n",
        "  temp = p >= i\n",
        "  temp = temp.astype('int')\n",
        "  precision.append(precision_score(Y_test,temp))\n",
        "  recall.append(recall_score(Y_test,temp))\n",
        "  roc.append(roc_auc_score(Y_test,temp))\n",
        "\n",
        "plt.plot(thr,precision)\n",
        "plt.xlabel('Threshold')\n",
        "plt.ylabel('Precision')\n",
        "plt.title('Precision VS Threshold')\n",
        "plt.show()\n",
        "plt.plot(thr,recall)\n",
        "plt.xlabel('Threshold')\n",
        "plt.ylabel('Recall')\n",
        "plt.title('Recall VS Threshold')\n",
        "plt.show()\n",
        "plt.plot(thr,roc)\n",
        "plt.xlabel('Threshold')\n",
        "plt.ylabel('ROC')\n",
        "plt.title('ROC VS Threshold')\n",
        "plt.show()"
      ]
    },
    {
      "cell_type": "code",
      "source": [
        ""
      ],
      "metadata": {
        "id": "1OyQFIgUaL25"
      },
      "execution_count": null,
      "outputs": []
    }
  ],
  "metadata": {
    "colab": {
      "collapsed_sections": [
        "aBjMkwwkeRq2",
        "UtoHAfDzK6gX",
        "8DthAUvHzhcM",
        "KrD8D3MSzsJE",
        "7Mw4hjRkZLXX",
        "3zadDM05a0hX",
        "qFhsj1558kN2",
        "n9IzTxO_8X-4",
        "M0zJivjQzk3r",
        "TErsOkx2N2nF"
      ],
      "name": "Pre-Operative (Firth Logistic).ipynb",
      "provenance": []
    },
    "kernelspec": {
      "display_name": "Python 3",
      "name": "python3"
    },
    "language_info": {
      "name": "python"
    }
  },
  "nbformat": 4,
  "nbformat_minor": 0
}